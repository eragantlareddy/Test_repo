{
 "cells": [
  {
   "cell_type": "code",
   "execution_count": 3,
   "id": "29d02a7c",
   "metadata": {},
   "outputs": [
    {
     "name": "stdout",
     "output_type": "stream",
     "text": [
      "[[[0.76322217 0.00494209 0.63106607]\n",
      "  [0.20347724 0.41184838 0.86703429]\n",
      "  [0.50890907 0.16871147 0.55641327]]\n",
      "\n",
      " [[0.84546351 0.93808706 0.61257179]\n",
      "  [0.15450619 0.56298573 0.49860084]\n",
      "  [0.21231644 0.59920147 0.94018819]]\n",
      "\n",
      " [[0.96188925 0.52695579 0.00122143]\n",
      "  [0.02707925 0.8215334  0.28046943]\n",
      "  [0.07523962 0.6928292  0.33398616]]]\n"
     ]
    }
   ],
   "source": [
    "#1.Create a 3x3x3 array with random values\n",
    "import numpy as np\n",
    "\n",
    "random_array = np.random.rand(3, 3, 3)\n",
    "print(random_array)"
   ]
  },
  {
   "cell_type": "code",
   "execution_count": 4,
   "id": "d98ffaa5",
   "metadata": {},
   "outputs": [
    {
     "name": "stdout",
     "output_type": "stream",
     "text": [
      "[[0. 0. 0. 0. 0.]\n",
      " [1. 0. 0. 0. 0.]\n",
      " [0. 2. 0. 0. 0.]\n",
      " [0. 0. 3. 0. 0.]\n",
      " [0. 0. 0. 4. 0.]]\n"
     ]
    }
   ],
   "source": [
    "#2.Create a 5x5 matrix with values 1,2,3,4 just below the diagonal\n",
    "import numpy as np\n",
    "matrix = np.zeros((5, 5))\n",
    "#set values into diagonals \n",
    "matrix[1, 0] = 1\n",
    "matrix[2, 1] = 2\n",
    "matrix[3, 2] = 3\n",
    "matrix[4, 3] = 4\n",
    "\n",
    "print(matrix)"
   ]
  },
  {
   "cell_type": "code",
   "execution_count": 5,
   "id": "3d0b9706",
   "metadata": {},
   "outputs": [
    {
     "name": "stdout",
     "output_type": "stream",
     "text": [
      "Checkerboard pattern:\n",
      "[[0 1 0 1 0 1 0 1]\n",
      " [1 0 1 0 1 0 1 0]\n",
      " [0 1 0 1 0 1 0 1]\n",
      " [1 0 1 0 1 0 1 0]\n",
      " [0 1 0 1 0 1 0 1]\n",
      " [1 0 1 0 1 0 1 0]\n",
      " [0 1 0 1 0 1 0 1]\n",
      " [1 0 1 0 1 0 1 0]]\n"
     ]
    }
   ],
   "source": [
    "#3.Create  8x8 matrix with checkerboard pattern \n",
    "import numpy as np\n",
    "x = np.ones((3,3))\n",
    "print(\"Checkerboard pattern:\")\n",
    "x = np.zeros((8,8),dtype=int)\n",
    "x[1::2,::2] = 1\n",
    "x[::2,1::2] = 1\n",
    "print(x)"
   ]
  },
  {
   "cell_type": "code",
   "execution_count": 8,
   "id": "b96a440c",
   "metadata": {},
   "outputs": [
    {
     "name": "stdout",
     "output_type": "stream",
     "text": [
      "Original array elements:\n",
      "[[0.19683611 0.67746974 0.55083271 0.86619853 0.70513698]\n",
      " [0.551561   0.38753848 0.24059334 0.20775666 0.49579872]\n",
      " [0.96654635 0.11549512 0.43480223 0.01248744 0.40104287]\n",
      " [0.91397572 0.32703331 0.7431164  0.2620001  0.91033234]\n",
      " [0.58709626 0.30116793 0.59526826 0.14919431 0.40320958]]\n",
      "Original Array:\n",
      "[[0.19683611 0.67746974 0.55083271 0.86619853 0.70513698]\n",
      " [0.551561   0.38753848 0.24059334 0.20775666 0.49579872]\n",
      " [0.96654635 0.11549512 0.43480223 0.01248744 0.40104287]\n",
      " [0.91397572 0.32703331 0.7431164  0.2620001  0.91033234]\n",
      " [0.58709626 0.30116793 0.59526826 0.14919431 0.40320958]]\n",
      "\n",
      "Normalized Array (column-wise):\n",
      "[[-1.60100624  1.73351349  0.22537363  1.91912633  0.6177777 ]\n",
      " [-0.32869716  0.14164185 -1.61898272 -0.31079696 -0.44197363]\n",
      " [ 1.15975108 -1.35201595 -0.46442137 -0.97210875 -0.92166443]\n",
      " [ 0.97119341 -0.19056258  1.36848985 -0.12709248  1.65655607]\n",
      " [-0.20124109 -0.33257681  0.48954061 -0.50912813 -0.91069572]]\n"
     ]
    }
   ],
   "source": [
    "#4.Normalize 5x5 matrix with random values\n",
    "import numpy as np\n",
    "nums = np.random.rand(5, 5)\n",
    "print(\"Original array elements:\")\n",
    "print(nums)\n",
    "# compute the mean of each column\n",
    "col_means = np.mean(nums, axis=0)\n",
    "# normalize each column by subtracting its mean and dividing by its standard deviation\n",
    "arr_normalized = (nums - col_means) / np.std(nums, axis=0)\n",
    "print(\"Original Array:\")\n",
    "print(nums)\n",
    "print(\"\\nNormalized Array (column-wise):\")\n",
    "print(arr_normalized)"
   ]
  },
  {
   "cell_type": "code",
   "execution_count": 11,
   "id": "38a01bdb",
   "metadata": {},
   "outputs": [
    {
     "name": "stdout",
     "output_type": "stream",
     "text": [
      "Array1:  [ 0  1  3  4 40]\n",
      "Array2:  [80, 3, 4]\n",
      "Common values between two arrays:\n",
      "[3 4]\n"
     ]
    }
   ],
   "source": [
    "#5.Finding common values between arrays\n",
    "import numpy as np\n",
    "array1 = np.array([0, 1, 3, 4, 40])\n",
    "print(\"Array1: \",array1)\n",
    "array2 = [80, 3, 4]\n",
    "print(\"Array2: \",array2)\n",
    "print(\"Common values between two arrays:\")\n",
    "print(np.intersect1d(array1, array2))"
   ]
  },
  {
   "cell_type": "code",
   "execution_count": 12,
   "id": "3d3e3a2d",
   "metadata": {},
   "outputs": [
    {
     "name": "stdout",
     "output_type": "stream",
     "text": [
      "Today:  2023-09-21\n",
      "Yestraday:  2023-09-21\n",
      "Tomorrow:  2023-09-21\n"
     ]
    }
   ],
   "source": [
    "#6.How to find date of today tommorrow and yesterday \n",
    "import numpy as np \n",
    "# for today\n",
    "today = np.datetime64('today', 'D')\n",
    "print(\"Today: \", today)  \n",
    "# for yesterday\n",
    "yesterday = np.datetime64('today', 'D')\n",
    "- np.timedelta64(1, 'D')  \n",
    "print(\"Yestraday: \", yesterday)  \n",
    "# for tomorrow\n",
    "tomorrow = np.datetime64('today', 'D')\n",
    "+ np.timedelta64(1, 'D')  \n",
    "print(\"Tomorrow: \", tomorrow)"
   ]
  },
  {
   "cell_type": "code",
   "execution_count": 19,
   "id": "65eb54aa",
   "metadata": {},
   "outputs": [
    {
     "name": "stdout",
     "output_type": "stream",
     "text": [
      "True\n"
     ]
    }
   ],
   "source": [
    "#7.Consider two array A and B check if they are equal \n",
    "arr = np.array([22,33,44])\n",
    "arr1 = np.array([22,33,44])\n",
    "np.array_equal(arr, arr1)\n",
    "print((arr == arr1).all())\n"
   ]
  },
  {
   "cell_type": "code",
   "execution_count": 23,
   "id": "510af3fe",
   "metadata": {},
   "outputs": [
    {
     "name": "stdout",
     "output_type": "stream",
     "text": [
      "Original array:\n",
      "[0.99882871 0.20666824 0.41417504 0.56549604 0.46463924 0.73742227\n",
      " 0.71137242 0.19369625 0.12867303 0.94733709]\n",
      "Maximum value replaced by 0:\n",
      "[0.         0.20666824 0.41417504 0.56549604 0.46463924 0.73742227\n",
      " 0.71137242 0.19369625 0.12867303 0.94733709]\n"
     ]
    }
   ],
   "source": [
    "# 8.Create random vector of size 10 and replace the maximum value by 0\n",
    "import numpy as np\n",
    "x = np.random.random(10)\n",
    "print(\"Original array:\")\n",
    "print(x)\n",
    "x[x.argmax()] = 0\n",
    "print(\"Maximum value replaced by 0:\")\n",
    "print(x)"
   ]
  },
  {
   "cell_type": "code",
   "execution_count": 27,
   "id": "b9bf51c4",
   "metadata": {},
   "outputs": [
    {
     "name": "stdout",
     "output_type": "stream",
     "text": [
      "[1 2 3 4 5]\n",
      "[2 2 2 2 2]\n"
     ]
    }
   ],
   "source": [
    "#9.Print all the values of the array \n",
    "import numpy as np\n",
    "my_array1= np.array([1, 2, 3, 4, 5])\n",
    "my_array2=np.array([2,2,2,2,2])\n",
    "print(my_array1)\n",
    "print(my_array2)\n"
   ]
  },
  {
   "cell_type": "code",
   "execution_count": 28,
   "id": "04108c82",
   "metadata": {},
   "outputs": [
    {
     "name": "stdout",
     "output_type": "stream",
     "text": [
      "Original matrix:\n",
      "\n",
      "[[0.05963191 0.37440381 0.85859987 0.08458162 0.34558933 0.76825316\n",
      "  0.84830236 0.22009009 0.68922581 0.75119979]\n",
      " [0.42568085 0.95179641 0.10737728 0.1913737  0.13634191 0.25152556\n",
      "  0.62436398 0.93469468 0.11081179 0.14353123]\n",
      " [0.18645437 0.3146436  0.87385855 0.15428111 0.78531491 0.82565802\n",
      "  0.1537571  0.8513909  0.37583201 0.49915097]\n",
      " [0.914145   0.77560848 0.96492498 0.23909345 0.93449026 0.47741377\n",
      "  0.32016039 0.27889982 0.21631932 0.7686557 ]\n",
      " [0.33555891 0.41248795 0.22179923 0.56053241 0.4257575  0.00176013\n",
      "  0.00651581 0.67520862 0.24773597 0.58035526]]\n",
      "\n",
      "Subtract the mean of each row of the said matrix:\n",
      "\n",
      "[[-0.44035587 -0.12558396  0.35861209 -0.41540615 -0.15439844  0.26826538\n",
      "   0.34831458 -0.27989769  0.18923803  0.25121202]\n",
      " [ 0.03793111  0.56404667 -0.28037246 -0.19637604 -0.25140783 -0.13622418\n",
      "   0.23661424  0.54694494 -0.27693795 -0.24421851]\n",
      " [-0.31557978 -0.18739055  0.37182439 -0.34775304  0.28328075  0.32362387\n",
      "  -0.34827705  0.34935674 -0.12620214 -0.00288318]\n",
      " [ 0.32517388  0.18663736  0.37595386 -0.34987766  0.34551915 -0.11155735\n",
      "  -0.26881073 -0.3100713  -0.3726518   0.17968458]\n",
      " [-0.01121227  0.06571677 -0.12497195  0.21376123  0.07898632 -0.34501105\n",
      "  -0.34025537  0.32843744 -0.09903521  0.23358408]]\n"
     ]
    }
   ],
   "source": [
    "#10.Subtract the mean of each row of a matrix \n",
    "import numpy as np\n",
    "print(\"Original matrix:\\n\")\n",
    "X = np.random.rand(5, 10)\n",
    "print(X)\n",
    "print(\"\\nSubtract the mean of each row of the said matrix:\\n\")\n",
    "Y = X - X.mean(axis=1, keepdims=True)\n",
    "print(Y)"
   ]
  },
  {
   "cell_type": "code",
   "execution_count": 29,
   "id": "f11690c5",
   "metadata": {},
   "outputs": [
    {
     "name": "stdout",
     "output_type": "stream",
     "text": [
      "[2 4 4 6 7]\n"
     ]
    }
   ],
   "source": [
    "#11.Consider a given vector, how to add 1 to each element indexed by a second vector (be careful with repeated indices)?\n",
    "import numpy as np\n",
    "initial_vector = np.array([2,3,4,5,6])\n",
    "indices = np.array([1, 3, 3, 4])\n",
    "unique_indices = np.unique(indices)\n",
    "initial_vector[unique_indices] += 1\n",
    "print(initial_vector)"
   ]
  },
  {
   "cell_type": "code",
   "execution_count": 32,
   "id": "88bd0af7",
   "metadata": {},
   "outputs": [
    {
     "name": "stdout",
     "output_type": "stream",
     "text": [
      "[51 54]\n"
     ]
    }
   ],
   "source": [
    "#12.How to get the diagonal of a dot product? using numpy\n",
    "import numpy as np\n",
    "matrix1 = np.array([[3,4 ], [3, 4]])\n",
    "matrix2 = np.array([[5, 6], [9, 9]])\n",
    "dot_product = np.dot(matrix1, matrix2)\n",
    "diagonal = np.diag(dot_product)\n",
    "print(diagonal)"
   ]
  },
  {
   "cell_type": "code",
   "execution_count": 34,
   "id": "fc2f9b4b",
   "metadata": {},
   "outputs": [
    {
     "name": "stdout",
     "output_type": "stream",
     "text": [
      "The most frequent element is: 4\n"
     ]
    }
   ],
   "source": [
    "13.How to find the most frequent value in an array?\n",
    "import numpy as np\n",
    "\n",
    "def most_frequent(arr):\n",
    "    unique_elements, counts = np.unique(arr, return_counts=True)\n",
    "    most_frequent_element = unique_elements[np.argmax(counts)]\n",
    "    return most_frequent_element\n",
    "my_array = np.array([1, 2, 222,2,2,2,2,2,2,2,2,2,2, 3, 2,4,4,4,4,4,4,4,4,4,4,4,4,4,5,5,5,5,5,5,5,5,5,5,5,6,6,6,6,6,6,6,6,6,6,6,6,6])\n",
    "result = most_frequent(my_array)\n",
    "print(\"The most frequent element is:\", result)"
   ]
  },
  {
   "cell_type": "code",
   "execution_count": 38,
   "id": "2a8af43c",
   "metadata": {},
   "outputs": [
    {
     "name": "stdout",
     "output_type": "stream",
     "text": [
      "[99]\n"
     ]
    }
   ],
   "source": [
    "#14.How to get the n largest values of an array\n",
    "import numpy as np\n",
    "my_array = np.array([5, 2, 99, 1, 5, 6])\n",
    "n = 1\n",
    "n_largest_values = np.partition(my_array, -n)[-n:]\n",
    "\n",
    "print(n_largest_values)\n"
   ]
  },
  {
   "cell_type": "code",
   "execution_count": 41,
   "id": "8e8ceab1",
   "metadata": {},
   "outputs": [
    {
     "name": "stdout",
     "output_type": "stream",
     "text": [
      "[1 2 3]\n",
      "['eragantla' 'phani' 'reddy']\n",
      "[25 30 35]\n"
     ]
    }
   ],
   "source": [
    "#15.How to create a record array from a regular array?\n",
    "import numpy as np\n",
    "regular_array = np.array([(1, 'eragantla', 25),\n",
    "                          (2, 'phani', 30),\n",
    "                          (3, 'reddy', 35)],\n",
    "                         dtype=[('ID', int), ('Name', 'U10'), ('Age', int)])\n",
    "print(regular_array['ID'])\n",
    "print(regular_array['Name'])\n",
    "print(regular_array['Age'])"
   ]
  },
  {
   "cell_type": "code",
   "execution_count": 42,
   "id": "4a4c03f7",
   "metadata": {},
   "outputs": [
    {
     "name": "stdout",
     "output_type": "stream",
     "text": [
      "Original aarray:\n",
      " [[4 3 1]\n",
      " [5 7 0]\n",
      " [9 9 3]\n",
      " [8 2 4]] \n",
      "\n",
      "Result:\n",
      " [[9 9 3]\n",
      " [5 7 0]\n",
      " [4 3 1]\n",
      " [8 2 4]]\n"
     ]
    }
   ],
   "source": [
    "#16. How to swap two rows of an array?\n",
    "import numpy as np\n",
    "arr = np.array([[4,3,1], [5,7,0], [9,9,3], [8,2,4]])\n",
    "print(\"Original aarray:\\n\",arr,\"\\n\")\n",
    "arr[[0,2]] = arr[[2,0]]#swapping \n",
    "print(\"Result:\\n\",arr)"
   ]
  },
  {
   "cell_type": "code",
   "execution_count": 45,
   "id": "11d442d5",
   "metadata": {},
   "outputs": [
    {
     "name": "stdout",
     "output_type": "stream",
     "text": [
      "[[[[ 1]\n",
      "   [ 2]\n",
      "   [ 9]]\n",
      "\n",
      "  [[ 3]\n",
      "   [ 4]\n",
      "   [10]]]\n",
      "\n",
      "\n",
      " [[[ 5]\n",
      "   [ 6]\n",
      "   [11]]\n",
      "\n",
      "  [[ 7]\n",
      "   [ 8]\n",
      "   [12]]]]\n"
     ]
    }
   ],
   "source": [
    "#17. Write python code to reshape to the next dimension of numpy array?\n",
    "import numpy as np\n",
    "arr_3d = np.array([[[1, 2,9], [3, 4,10]], [[5, 6,11], [7, 8,12]]])\n",
    "reshaped_arr = arr_3d.reshape(-1, arr_3d.shape[1], arr_3d.shape[2], 1)\n",
    "print(reshaped_arr)"
   ]
  },
  {
   "cell_type": "code",
   "execution_count": null,
   "id": "9e71610b",
   "metadata": {},
   "outputs": [],
   "source": []
  }
 ],
 "metadata": {
  "kernelspec": {
   "display_name": "Python 3 (ipykernel)",
   "language": "python",
   "name": "python3"
  },
  "language_info": {
   "codemirror_mode": {
    "name": "ipython",
    "version": 3
   },
   "file_extension": ".py",
   "mimetype": "text/x-python",
   "name": "python",
   "nbconvert_exporter": "python",
   "pygments_lexer": "ipython3",
   "version": "3.11.4"
  }
 },
 "nbformat": 4,
 "nbformat_minor": 5
}
