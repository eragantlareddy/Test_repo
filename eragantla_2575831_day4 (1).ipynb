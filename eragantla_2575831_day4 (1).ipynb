{
 "cells": [
  {
   "cell_type": "code",
   "execution_count": 1,
   "id": "e14eb8fe",
   "metadata": {},
   "outputs": [
    {
     "name": "stdout",
     "output_type": "stream",
     "text": [
      "Enter Physics marks: 20\n",
      "Enter Chemistry marks: 20\n",
      "Enter Biology marks: 100\n",
      "Enter Mathematics marks: 100\n",
      "Enter Computer marks: 100\n",
      "Percentage: 68.0%\n",
      "Grade: D\n"
     ]
    }
   ],
   "source": [
    "#1.Calculation of percentage \n",
    "try:\n",
    "    physics = float(input(\"Enter Physics marks: \"))\n",
    "    chemistry = float(input(\"Enter Chemistry marks: \"))\n",
    "    biology = float(input(\"Enter Biology marks: \"))\n",
    "    mathematics = float(input(\"Enter Mathematics marks: \"))\n",
    "    computer = float(input(\"Enter Computer marks: \"))\n",
    "    total_marks = physics + chemistry + biology + mathematics + computer\n",
    "    percentage = (total_marks / 500) * 100\n",
    "    if percentage >= 90:\n",
    "        grade = \"A\"\n",
    "    elif percentage >= 80:\n",
    "        grade = \"B\"\n",
    "    elif percentage >= 70:\n",
    "        grade = \"C\"\n",
    "    elif percentage >= 60:\n",
    "        grade = \"D\"\n",
    "    elif percentage >= 40:\n",
    "        grade = \"E\"\n",
    "    else:\n",
    "        grade = \"F\"\n",
    "    print(f\"Percentage: {percentage}%\")\n",
    "    print(f\"Grade: {grade}\")\n",
    "\n",
    "except ValueError:\n",
    "    print(\"Invalid input. Please enter numeric marks for each subject.\")\n",
    "except Exception as e:\n",
    "    print(f\"An error occurred: {e}\")"
   ]
  },
  {
   "cell_type": "code",
   "execution_count": 2,
   "id": "72181f1b",
   "metadata": {},
   "outputs": [
    {
     "name": "stdout",
     "output_type": "stream",
     "text": [
      "Enter the number of units consumed: 20\n",
      "Total electricity bill: Rs. 12.00\n"
     ]
    }
   ],
   "source": [
    "#2.ELECTRICITY BILL CHARGING \n",
    "try:\n",
    "    units = float(input(\"Enter the number of units consumed: \"))\n",
    "    surcharge = 0.20\n",
    "    if units <= 50:\n",
    "        rate = 0.50\n",
    "    elif units <= 150:\n",
    "        rate = 0.75\n",
    "    elif units <= 250:\n",
    "        rate = 1.20\n",
    "    else:\n",
    "        rate = 1.50\n",
    "\n",
    "    total_bill = units * rate\n",
    "    total_bill += total_bill * surcharge\n",
    "\n",
    "    print(f\"Total electricity bill: Rs. {total_bill:.2f}\")\n",
    "except ValueError:\n",
    "    print(\"Invalid input. Please enter a valid number of units.\")"
   ]
  },
  {
   "cell_type": "code",
   "execution_count": 3,
   "id": "6c4c4027",
   "metadata": {},
   "outputs": [
    {
     "name": "stdout",
     "output_type": "stream",
     "text": [
      "Enter a week number (1-7): 5\n",
      "Weekday for week 5 is Friday.\n"
     ]
    }
   ],
   "source": [
    "#3. Week Days Calculation\n",
    "try:\n",
    "    week_number = int(input(\"Enter a week number (1-7): \"))\n",
    "    \n",
    "    if 1 <= week_number <= 7:\n",
    "        weekdays = [\"Monday\", \"Tuesday\", \"Wednesday\", \"Thursday\", \"Friday\", \"Saturday\", \"Sunday\"]\n",
    "        weekday = weekdays[week_number - 1]\n",
    "        print(f\"Weekday for week {week_number} is {weekday}.\")\n",
    "    else:\n",
    "        print(\"Week number must be between 1 and 7.\")\n",
    "except ValueError:\n",
    "    print(\"Invalid input. Please enter a valid week number (1-7).\")"
   ]
  },
  {
   "cell_type": "code",
   "execution_count": 29,
   "id": "14812eb8",
   "metadata": {},
   "outputs": [
    {
     "name": "stdout",
     "output_type": "stream",
     "text": [
      "Usage: python wordcount.py <filename>\n"
     ]
    }
   ],
   "source": [
    "#4.word count in a file\n",
    "import sys\n",
    "\n",
    "def word_count(filename):\n",
    "    try:\n",
    "        with open(filename, 'r') as file:\n",
    "            word_count = {}\n",
    "            for line in file:\n",
    "                words = line.split()\n",
    "                for word in words:\n",
    "                    word = word.lower()  \n",
    "                    if word in word_count:\n",
    "                        word_count[word] += 1\n",
    "                    else:\n",
    "                        word_count[word] = 1\n",
    "            for word, count in word_count.items():\n",
    "                print(f'{word}: {count}')\n",
    "\n",
    "    except FileNotFoundError:\n",
    "        print(f\"Error: {filename} not found.\")\n",
    "\n",
    "if __name__ == \"__main__\":\n",
    "    if len(sys.argv) != 2:\n",
    "        print(\"Usage: python wordcount.py <filename>\")\n",
    "    else:\n",
    "        filename = sys.argv[1]\n",
    "        word_count(filename)"
   ]
  },
  {
   "cell_type": "code",
   "execution_count": 28,
   "id": "affc5351",
   "metadata": {},
   "outputs": [
    {
     "name": "stdout",
     "output_type": "stream",
     "text": [
      "is: 2\n",
      "this: 1\n",
      "apple: 1\n",
      "file: 1\n",
      "which: 1\n",
      "creted: 1\n",
      "by: 1\n",
      "me.: 1\n"
     ]
    }
   ],
   "source": [
    "#5. find most freqent words in a file\n",
    "from collections import Counter\n",
    "\n",
    "with open(r\"C:\\Users\\phani\\OneDrive\\Desktop\\python folders\\apple.txt\", 'r') as file:\n",
    "    text = file.read()\n",
    "\n",
    "word_count = Counter(words)\n",
    "sorted_word_count = sorted(word_count.items(), key=lambda x: x[1], reverse=True)\n",
    "for word, frequency in sorted_word_count[:top_n]:\n",
    "    print(f'{word}: {frequency}')"
   ]
  },
  {
   "cell_type": "code",
   "execution_count": 34,
   "id": "8c862627",
   "metadata": {},
   "outputs": [
    {
     "name": "stdout",
     "output_type": "stream",
     "text": [
      "File processing completed successfully.\n"
     ]
    }
   ],
   "source": [
    "#6.File Processing\n",
    "import sys\n",
    "import os\n",
    "\n",
    "def process_files(input_file, output_file):\n",
    "    try:\n",
    "        with open(input_file, 'r') as f_in, open(output_file, 'w') as f_out:\n",
    "            for line in f_in:\n",
    "                # Process the content of the input file here\n",
    "                f_out.write(line)\n",
    "        print(\"File processing completed successfully.\")\n",
    "    except FileNotFoundError:\n",
    "        print(\"Input file not found.\")\n",
    "        sys.exit(1)\n",
    "    except PermissionError:\n",
    "        print(\"Permission denied when writing to the output file.\")\n",
    "        sys.exit(1)\n",
    "    except Exception as e:\n",
    "        print(f\"An error occurred: {e}\")\n",
    "        sys.exit(1)\n",
    "\n",
    "def main():\n",
    "    if len(sys.argv) != 3:\n",
    "        print(\"Usage: python program.py <input_file> <output_file>\")\n",
    "        sys.exit(1)\n",
    "\n",
    "input_file = sys.argv[0]\n",
    "output_file = sys.argv[1]\n",
    "\n",
    "if not os.path.isfile(input_file):\n",
    "    print(\"Input file does not exist.\")\n",
    "    sys.exit(1)\n",
    "\n",
    "process_files(input_file, output_file)\n",
    "\n",
    "if __name__ == \"__main__\":\n",
    "    main()"
   ]
  }
 ],
 "metadata": {
  "kernelspec": {
   "display_name": "Python 3 (ipykernel)",
   "language": "python",
   "name": "python3"
  },
  "language_info": {
   "codemirror_mode": {
    "name": "ipython",
    "version": 3
   },
   "file_extension": ".py",
   "mimetype": "text/x-python",
   "name": "python",
   "nbconvert_exporter": "python",
   "pygments_lexer": "ipython3",
   "version": "3.11.4"
  }
 },
 "nbformat": 4,
 "nbformat_minor": 5
}
