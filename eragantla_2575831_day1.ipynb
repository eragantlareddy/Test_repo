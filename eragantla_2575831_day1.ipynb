{
 "cells": [
  {
   "cell_type": "code",
   "execution_count": 2,
   "id": "1b2208ce",
   "metadata": {},
   "outputs": [
    {
     "name": "stdout",
     "output_type": "stream",
     "text": [
      "[1, 2, 3, 4]\n"
     ]
    }
   ],
   "source": [
    "# 1.TO ADD NEW ELEMENTS TO THE END OF THE LIST\n",
    "my_list = [1,2,3]\n",
    "new_element = 4\n",
    "my_list.append(new_element)\n",
    "print(my_list)\n"
   ]
  },
  {
   "cell_type": "code",
   "execution_count": 3,
   "id": "43e1fc8b",
   "metadata": {},
   "outputs": [
    {
     "name": "stdout",
     "output_type": "stream",
     "text": [
      "[4, 3, 2, 1]\n"
     ]
    }
   ],
   "source": [
    "# 2. reverse the elements \n",
    "my_list =[1,2,3,4]\n",
    "my_list.reverse()\n",
    "print(my_list)"
   ]
  },
  {
   "cell_type": "code",
   "execution_count": 5,
   "id": "54f13bf5",
   "metadata": {},
   "outputs": [
    {
     "name": "stdout",
     "output_type": "stream",
     "text": [
      "[1, 2, 3]\n",
      "[1, 2, 3]\n",
      "[1, 2, 3]\n",
      "[1, 2, 3]\n"
     ]
    }
   ],
   "source": [
    "# 3.same list multiple times display\n",
    "my_list =[1,2,3]\n",
    "num_times =4 # number of times to display \n",
    "for i in range (num_times):\n",
    "    print(my_list)\n"
   ]
  },
  {
   "cell_type": "code",
   "execution_count": 7,
   "id": "e714dd18",
   "metadata": {},
   "outputs": [
    {
     "name": "stdout",
     "output_type": "stream",
     "text": [
      "[1, 2, 3, 4, 5, 6]\n"
     ]
    }
   ],
   "source": [
    "# 4.concatenate the list\n",
    "list1 = [1,2,3]\n",
    "list2 = [4,5,6]\n",
    "concatenated_list = list1 + list2\n",
    "print(concatenated_list)"
   ]
  },
  {
   "cell_type": "code",
   "execution_count": 8,
   "id": "6be64a1a",
   "metadata": {},
   "outputs": [
    {
     "name": "stdout",
     "output_type": "stream",
     "text": [
      "[1, 3, 4, 6, 9]\n"
     ]
    }
   ],
   "source": [
    "# 5.sort elements in ascending order \n",
    "my_list = [1,4,3,9,6]\n",
    "my_list.sort()\n",
    "print(my_list)\n"
   ]
  },
  {
   "cell_type": "code",
   "execution_count": 12,
   "id": "3e441407",
   "metadata": {},
   "outputs": [
    {
     "name": "stdout",
     "output_type": "stream",
     "text": [
      "(1, 2, 3, 4)\n"
     ]
    }
   ],
   "source": [
    "# 2.2 to add new elements to end the tuples\n",
    "my_tuple =(1,2,3)\n",
    "new_element = 4\n",
    "new_tuple = my_tuple+(new_element,)\n",
    "print(new_tuple)\n"
   ]
  },
  {
   "cell_type": "code",
   "execution_count": 31,
   "id": "dc510fbf",
   "metadata": {},
   "outputs": [
    {
     "name": "stdout",
     "output_type": "stream",
     "text": [
      "(4, 3, 2, 1)\n"
     ]
    }
   ],
   "source": [
    "#2.3 reverse elements in tuple \n",
    "my_tuple =(1,2,3,4)\n",
    "t=my_tuple[::-1]\n",
    "print(t)\n"
   ]
  },
  {
   "cell_type": "code",
   "execution_count": 32,
   "id": "84260100",
   "metadata": {},
   "outputs": [
    {
     "name": "stdout",
     "output_type": "stream",
     "text": [
      "(1, 2, 3)\n",
      "(1, 2, 3)\n",
      "(1, 2, 3)\n",
      "(1, 2, 3)\n"
     ]
    }
   ],
   "source": [
    " \n",
    "# 2.4 same tuple multiple times display\n",
    "my_tuple =(1,2,3)\n",
    "num_times =4 # number of times to display \n",
    "for i in range (num_times):\n",
    "    print(my_tuple)"
   ]
  },
  {
   "cell_type": "code",
   "execution_count": 15,
   "id": "fc02d2aa",
   "metadata": {},
   "outputs": [
    {
     "name": "stdout",
     "output_type": "stream",
     "text": [
      "(1, 2, 3, 4, 5, 6)\n"
     ]
    }
   ],
   "source": [
    "# 4.concatenate the tuple\n",
    "tuple1 = (1,2,3)\n",
    "tuple2 = (4,5,6)\n",
    "concatenated_tuple = tuple1 + tuple2\n",
    "print(concatenated_tuple)"
   ]
  },
  {
   "cell_type": "code",
   "execution_count": 16,
   "id": "b38c7c28",
   "metadata": {},
   "outputs": [
    {
     "name": "stdout",
     "output_type": "stream",
     "text": [
      "[1, 3, 4, 6, 9]\n"
     ]
    }
   ],
   "source": [
    "# 5.sort elements in ascending order \n",
    "my_tuple = (1,4,3,9,6)\n",
    "my_tuple.sort()\n",
    "print(my_tuple)"
   ]
  },
  {
   "cell_type": "code",
   "execution_count": 17,
   "id": "e85eb678",
   "metadata": {},
   "outputs": [
    {
     "name": "stdout",
     "output_type": "stream",
     "text": [
      "[1, 2, 3, 4, 5, 6, 7, 8, 9, 10]\n"
     ]
    }
   ],
   "source": [
    "# 3 .1 list with integers\n",
    "my_list=[1,2,3,4,5,6,7,8,9,10]\n",
    "print(my_list)"
   ]
  },
  {
   "cell_type": "code",
   "execution_count": 18,
   "id": "2740eb16",
   "metadata": {},
   "outputs": [
    {
     "name": "stdout",
     "output_type": "stream",
     "text": [
      "10\n"
     ]
    }
   ],
   "source": [
    "# 3 .2 last number displaying \n",
    "my_list=[1,2,3,4,5,6,7,8,9,10]\n",
    "last_number = my_list[-1]\n",
    "print(last_number)"
   ]
  },
  {
   "cell_type": "code",
   "execution_count": 19,
   "id": "ec60a992",
   "metadata": {},
   "outputs": [
    {
     "name": "stdout",
     "output_type": "stream",
     "text": [
      "[1, 2, 3, 4]\n"
     ]
    }
   ],
   "source": [
    "# 3.3 command for displaying values in the list \n",
    "my_list=[1,2,3,4,5,6,7,8,9,10]\n",
    "subset=my_list[0:4]\n",
    "print(subset)"
   ]
  },
  {
   "cell_type": "code",
   "execution_count": 20,
   "id": "8d18f8e7",
   "metadata": {},
   "outputs": [
    {
     "name": "stdout",
     "output_type": "stream",
     "text": [
      "[3, 4, 5, 6, 7, 8, 9, 10]\n"
     ]
    }
   ],
   "source": [
    " # 3.4 command for displaying values in the list \n",
    "my_list=[1,2,3,4,5,6,7,8,9,10]\n",
    "subset=my_list[2:]\n",
    "print(subset) "
   ]
  },
  {
   "cell_type": "code",
   "execution_count": 21,
   "id": "74845ffa",
   "metadata": {},
   "outputs": [
    {
     "name": "stdout",
     "output_type": "stream",
     "text": [
      "[1, 2, 3, 4, 5, 6]\n"
     ]
    }
   ],
   "source": [
    "# 3.5 command for displaying values in the list \n",
    "my_list=[1,2,3,4,5,6,7,8,9,10]\n",
    "subset=my_list[:6]\n",
    "print(subset)"
   ]
  },
  {
   "cell_type": "code",
   "execution_count": 23,
   "id": "6d5b624b",
   "metadata": {},
   "outputs": [
    {
     "name": "stdout",
     "output_type": "stream",
     "text": [
      "10\n",
      "50\n"
     ]
    }
   ],
   "source": [
    " #4.1 to display elements 10 and 50 \n",
    "tuple1 =(10,50,20,40,30)\n",
    "element1 = tuple1[0]\n",
    "print(element1)\n",
    "element2 = tuple1[1]\n",
    "print(element2)"
   ]
  },
  {
   "cell_type": "code",
   "execution_count": 24,
   "id": "cfddcf6b",
   "metadata": {},
   "outputs": [
    {
     "name": "stdout",
     "output_type": "stream",
     "text": [
      "5\n"
     ]
    }
   ],
   "source": [
    "#4.2 length of tuple \n",
    "my_tuple =(10,50,20,40,30)\n",
    "print(len(my_tuple))"
   ]
  },
  {
   "cell_type": "code",
   "execution_count": 26,
   "id": "fc3eaa5d",
   "metadata": {},
   "outputs": [
    {
     "name": "stdout",
     "output_type": "stream",
     "text": [
      "50\n"
     ]
    }
   ],
   "source": [
    "#4.3  max of tuple \n",
    "my_tuple =(10,50,20,40,30)\n",
    "print(max(my_tuple))"
   ]
  },
  {
   "cell_type": "code",
   "execution_count": 27,
   "id": "38a89318",
   "metadata": {},
   "outputs": [
    {
     "name": "stdout",
     "output_type": "stream",
     "text": [
      "150\n"
     ]
    }
   ],
   "source": [
    "#4.4 adding of tuple \n",
    "my_tuple =(10,50,20,40,30)\n",
    "print(sum(my_tuple))"
   ]
  },
  {
   "cell_type": "code",
   "execution_count": 33,
   "id": "536b6473",
   "metadata": {},
   "outputs": [
    {
     "name": "stdout",
     "output_type": "stream",
     "text": [
      "(10, 50, 20, 40, 30)\n",
      "(10, 50, 20, 40, 30)\n",
      "(10, 50, 20, 40, 30)\n",
      "(10, 50, 20, 40, 30)\n"
     ]
    }
   ],
   "source": [
    "# 4.5 same tuple multiple times display\n",
    "my_tuple =(10,50,20,40,30)\n",
    "num_times =4 # number of times to display \n",
    "for i in range (num_times):\n",
    "    print(my_tuple)"
   ]
  },
  {
   "cell_type": "code",
   "execution_count": 34,
   "id": "b3c503db",
   "metadata": {},
   "outputs": [
    {
     "name": "stdout",
     "output_type": "stream",
     "text": [
      "12\n"
     ]
    }
   ],
   "source": [
    "#5.1 calculating length of string \n",
    "my_string=\" hello world\"\n",
    "print(len(my_string))\n"
   ]
  },
  {
   "cell_type": "code",
   "execution_count": 35,
   "id": "e7f57afb",
   "metadata": {},
   "outputs": [
    {
     "name": "stdout",
     "output_type": "stream",
     "text": [
      "worldhello\n"
     ]
    }
   ],
   "source": [
    "#5.2 reverse words in strings\n",
    "my_string=\"hello world\"\n",
    "words = my_string.split()\n",
    "reversed_words = words[::-1]\n",
    "reversed_string =''.join(reversed_words)\n",
    "print(reversed_string)"
   ]
  },
  {
   "cell_type": "code",
   "execution_count": 36,
   "id": "3aa299f0",
   "metadata": {},
   "outputs": [
    {
     "name": "stdout",
     "output_type": "stream",
     "text": [
      "helloworld\n"
     ]
    }
   ],
   "source": [
    "# 5.4 concatenation of strings  \n",
    "string1 = \"hello\"\n",
    "string2=\"world\"\n",
    "concatenated_string=string1+string2\n",
    "print(concatenated_string)"
   ]
  },
  {
   "cell_type": "code",
   "execution_count": 39,
   "id": "d8b28767",
   "metadata": {
    "scrolled": true
   },
   "outputs": [
    {
     "name": "stdout",
     "output_type": "stream",
     "text": [
      "india\n"
     ]
    }
   ],
   "source": [
    "# 5.5 slicing to display  \n",
    "str1 = \"south india\"\n",
    "India_part = str1[6:]\n",
    "print(India_part)"
   ]
  },
  {
   "cell_type": "code",
   "execution_count": 40,
   "id": "d9f197cc",
   "metadata": {},
   "outputs": [
    {
     "name": "stdout",
     "output_type": "stream",
     "text": [
      "hello world!hello world!hello world!\n"
     ]
    }
   ],
   "source": [
    "#5.3 same string multiple times\n",
    "my_string = \"hello world!\"\n",
    "num_times=3\n",
    "repeated_string = my_string*num_times\n",
    "print(repeated_string)"
   ]
  },
  {
   "cell_type": "code",
   "execution_count": 42,
   "id": "2ffbd2d6",
   "metadata": {},
   "outputs": [],
   "source": [
    "#6.1 creating dictnoary\n",
    "my_dict ={\n",
    "    \"name\":\"john\",\n",
    "    \"age\":30,\n",
    "    \"city\":\"new york\"\n",
    "}"
   ]
  },
  {
   "cell_type": "code",
   "execution_count": 43,
   "id": "6548c849",
   "metadata": {},
   "outputs": [
    {
     "name": "stdout",
     "output_type": "stream",
     "text": [
      "keys: dict_keys(['name', 'age', 'city'])\n",
      "values: dict_values(['john', 30, 'new york'])\n",
      "Key: name value: john\n",
      "Key: age value: 30\n",
      "Key: city value: new york\n"
     ]
    }
   ],
   "source": [
    "#6.2 accesing values and keys  \n",
    "keys = my_dict.keys()\n",
    "print(\"keys:\",keys)\n",
    "values = my_dict.values()\n",
    "print(\"values:\",values)\n",
    "for key,value in my_dict.items():\n",
    "    print(\"Key:\",key,\"value:\",value)"
   ]
  },
  {
   "cell_type": "code",
   "execution_count": 44,
   "id": "cc1bcea6",
   "metadata": {},
   "outputs": [
    {
     "name": "stdout",
     "output_type": "stream",
     "text": [
      "{'name': 'John', 'age': 30, 'city': 'New York', 'new_key': 'new_value'}\n"
     ]
    }
   ],
   "source": [
    " # 6.3 update the dict using function \n",
    "    def update_dict(my_dict):\n",
    "    my_dict[\"new_key\"] = \"new_value\"  # Add or update a key-value pair\n",
    "    return my_dict\n",
    "\n",
    "my_dict = {\n",
    "    \"name\": \"John\",\n",
    "    \"age\": 30,\n",
    "    \"city\": \"New York\"\n",
    "}\n",
    "\n",
    "\n",
    "updated_dict = update_dict(my_dict)\n",
    "\n",
    "print(updated_dict)"
   ]
  },
  {
   "cell_type": "code",
   "execution_count": 45,
   "id": "3a1c1b4e",
   "metadata": {},
   "outputs": [],
   "source": [
    "#6.4 clear and delete dict \n",
    "del my_dict[\"age\"]\n",
    "my_dict.clear()"
   ]
  },
  {
   "cell_type": "code",
   "execution_count": 46,
   "id": "ed4a7702",
   "metadata": {},
   "outputs": [
    {
     "name": "stdout",
     "output_type": "stream",
     "text": [
      "[1, 2, 99, 3, 4, 5]\n"
     ]
    }
   ],
   "source": [
    "# 7 insert to number to any position \n",
    "my_list = [1, 2, 3, 4, 5]\n",
    "element_to_insert = 99\n",
    "position_to_insert = 2  \n",
    "my_list.insert(position_to_insert, element_to_insert)\n",
    "print(my_list)"
   ]
  },
  {
   "cell_type": "code",
   "execution_count": 47,
   "id": "922ea201",
   "metadata": {},
   "outputs": [
    {
     "name": "stdout",
     "output_type": "stream",
     "text": [
      "[1, 2, 4, 5]\n"
     ]
    }
   ],
   "source": [
    " # 8 program to delete an from a list \n",
    "my_list = [1, 2, 3, 4, 5]\n",
    "index_to_delete = 2  \n",
    "del my_list[index_to_delete]\n",
    "print(my_list)"
   ]
  },
  {
   "cell_type": "code",
   "execution_count": 48,
   "id": "fa419399",
   "metadata": {},
   "outputs": [
    {
     "name": "stdout",
     "output_type": "stream",
     "text": [
      "1\n",
      "2\n",
      "3\n",
      "4\n",
      "5\n",
      "6\n",
      "7\n",
      "8\n",
      "9\n",
      "10\n",
      "11\n",
      "12\n",
      "13\n",
      "14\n",
      "15\n",
      "16\n",
      "17\n",
      "18\n",
      "19\n",
      "20\n",
      "21\n",
      "22\n",
      "23\n",
      "24\n",
      "25\n",
      "26\n",
      "27\n",
      "28\n",
      "29\n",
      "30\n",
      "31\n",
      "32\n",
      "33\n",
      "34\n",
      "35\n",
      "36\n",
      "37\n",
      "38\n",
      "39\n",
      "40\n",
      "41\n",
      "42\n",
      "43\n",
      "44\n",
      "45\n",
      "46\n",
      "47\n",
      "48\n",
      "49\n",
      "50\n",
      "51\n",
      "52\n",
      "53\n",
      "54\n",
      "55\n",
      "56\n",
      "57\n",
      "58\n",
      "59\n",
      "60\n",
      "61\n",
      "62\n",
      "63\n",
      "64\n",
      "65\n",
      "66\n",
      "67\n",
      "68\n",
      "69\n",
      "70\n",
      "71\n",
      "72\n",
      "73\n",
      "74\n",
      "75\n",
      "76\n",
      "77\n",
      "78\n",
      "79\n",
      "80\n",
      "81\n",
      "82\n",
      "83\n",
      "84\n",
      "85\n",
      "86\n",
      "87\n",
      "88\n",
      "89\n",
      "90\n",
      "91\n",
      "92\n",
      "93\n",
      "94\n",
      "95\n",
      "96\n",
      "97\n",
      "98\n",
      "99\n",
      "100\n"
     ]
    }
   ],
   "source": [
    "#9 displaying 1 to 100 \n",
    "for number in range(1, 101):\n",
    "    print(number)"
   ]
  },
  {
   "cell_type": "code",
   "execution_count": 49,
   "id": "234e9c27",
   "metadata": {},
   "outputs": [
    {
     "name": "stdout",
     "output_type": "stream",
     "text": [
      "Sum of elements: 15\n"
     ]
    }
   ],
   "source": [
    "#10.sum of all times in a tuple \n",
    "my_tuple = (1, 2, 3, 4, 5)\n",
    "sum_of_elements = sum(my_tuple)\n",
    "print(\"Sum of elements:\", sum_of_elements)"
   ]
  },
  {
   "cell_type": "code",
   "execution_count": 3,
   "id": "cac35132",
   "metadata": {},
   "outputs": [
    {
     "name": "stdout",
     "output_type": "stream",
     "text": [
      "Enter a number: 10\n",
      "Square(10.0) = 100.0\n",
      "Cube(10.0) = 1000.0\n",
      "Squareroot(10.0) = 3.1622776601683795\n",
      "Sum of outputs: 1103.1622776601685\n"
     ]
    }
   ],
   "source": [
    " #11\n",
    "function_dict = {\n",
    "    \"Square\": lambda x: x ** 2,\n",
    "    \"Cube\": lambda x: x ** 3,\n",
    "    \"Squareroot\": lambda x: x ** 0.5\n",
    "}\n",
    "\n",
    "\n",
    "x = float(input(\"Enter a number: \"))\n",
    "\n",
    "total = 0\n",
    "for function_name, func in function_dict.items():\n",
    "    result = func(x)\n",
    "    total += result\n",
    "    print(f\"{function_name}({x}) = {result}\")\n",
    "print(\"Sum of outputs:\", total)"
   ]
  },
  {
   "cell_type": "code",
   "execution_count": 5,
   "id": "24646926",
   "metadata": {},
   "outputs": [
    {
     "name": "stdout",
     "output_type": "stream",
     "text": [
      "Words with a second uppercase character: ['ARe']\n"
     ]
    }
   ],
   "source": [
    " #12 find the words from the list that are second character in upper case  \n",
    "words = ['hello', 'Dear', 'how', 'ARe', 'You']\n",
    "result_words = []\n",
    "for word in words:\n",
    "    if len(word) >= 2 and word[1].isupper():\n",
    "        result_words.append(word)\n",
    "print(\"Words with a second uppercase character:\", result_words)"
   ]
  },
  {
   "cell_type": "code",
   "execution_count": 3,
   "id": "dbe60a06",
   "metadata": {},
   "outputs": [
    {
     "name": "stdout",
     "output_type": "stream",
     "text": [
      "John's weight on the Moon: 7.440366972477065 kg\n",
      "Shelly's weight on the Moon: 10.747196738022426 kg\n",
      "Marry's weight on the Moon: 5.786952089704383 kg\n"
     ]
    }
   ],
   "source": [
    "#13 weight on the moon finding \n",
    "WeightOnEarth = {'John': 45, 'Shelly': 65, 'Marry': 35}\n",
    "GMoon = 1.622\n",
    "GEarth = 9.81\n",
    "WeightOnMoon = map(lambda weight: (weight * GMoon) / GEarth, WeightOnEarth.values())\n",
    "WeightOnMoonDict = dict(zip(WeightOnEarth.keys(), WeightOnMoon))\n",
    "for name, weight in WeightOnMoonDict.items():\n",
    "    print(f\"{name}'s weight on the Moon: {weight} kg\")"
   ]
  },
  {
   "cell_type": "markdown",
   "id": "4eb54bdb",
   "metadata": {},
   "source": [
    "# control structures\n"
   ]
  },
  {
   "cell_type": "code",
   "execution_count": 7,
   "id": "32fb47d1",
   "metadata": {},
   "outputs": [
    {
     "name": "stdout",
     "output_type": "stream",
     "text": [
      "Enter N:10\n",
      "First 10 Prime numbers are:2 3 5 7 11 13 17 19 23 29\n"
     ]
    }
   ],
   "source": [
    "# 1 FIRST N PRIME NUMBERS \n",
    "def Prime(n):  \n",
    "    for i in range(2,n//2+1):  \n",
    "        if(n%i==0):  \n",
    "            return(0)  \n",
    "    return(1)  \n",
    "  \n",
    "N=int(input(\"Enter N:\"))  \n",
    "i=2 \n",
    "lst=[] \n",
    "while(1):  \n",
    "    if(Prime(i)):  \n",
    "        lst.append(i) \n",
    "        if(len(lst)==N): \n",
    "            break \n",
    "    i+=1 \n",
    "print(\"First \"+str(N)+\" Prime numbers are:\",end=\"\") \n",
    "print(*lst)"
   ]
  },
  {
   "cell_type": "code",
   "execution_count": 4,
   "id": "fcedd51a",
   "metadata": {},
   "outputs": [
    {
     "name": "stdout",
     "output_type": "stream",
     "text": [
      "Enter Basic Salary: 100000\n",
      "Enter HRA: 10\n",
      "Enter TA: 10\n",
      "Enter DA: 10\n",
      "Gross Salary: 100030.0\n",
      "Tax: 10003.0\n",
      "Net Salary: 90027.0\n"
     ]
    }
   ],
   "source": [
    "#2.salary of an employee\n",
    "basic_salary = float(input(\"Enter Basic Salary: \"))\n",
    "hra = float(input(\"Enter HRA: \"))\n",
    "ta = float(input(\"Enter TA: \"))\n",
    "da = float(input(\"Enter DA: \"))\n",
    "gross_salary = basic_salary + hra + ta + da\n",
    "tax = 0.10 * gross_salary\n",
    "net_salary = gross_salary - tax\n",
    "print(f\"Gross Salary: {gross_salary}\")\n",
    "print(f\"Tax: {tax}\")\n",
    "print(f\"Net Salary: {net_salary}\")"
   ]
  },
  {
   "cell_type": "code",
   "execution_count": 5,
   "id": "c8f36297",
   "metadata": {},
   "outputs": [
    {
     "name": "stdout",
     "output_type": "stream",
     "text": [
      "geeky is present in the list\n"
     ]
    }
   ],
   "source": [
    "#3 search string in the list \n",
    "l = [1, 2.0, 'have', 'a', 'geeky', 'day']\n",
    "s = 'geeky' \n",
    "if s in l:\n",
    "    print(f'{s} is present in the list')\n",
    "else:\n",
    "    print(f'{s} is not present in the list')"
   ]
  },
  {
   "cell_type": "code",
   "execution_count": 6,
   "id": "ae46fcb9",
   "metadata": {},
   "outputs": [
    {
     "name": "stdout",
     "output_type": "stream",
     "text": [
      "Original String :  The quick Brown Fox\n",
      "No. of Upper case characters :  3\n",
      "No. of Lower case Characters :  13\n"
     ]
    }
   ],
   "source": [
    "#4 calculation of upper case and lower case \n",
    "def string_test(s):\n",
    "    d={\"UPPER_CASE\":0, \"LOWER_CASE\":0}\n",
    "    for c in s:\n",
    "        if c.isupper():\n",
    "           d[\"UPPER_CASE\"]+=1\n",
    "        elif c.islower():\n",
    "           d[\"LOWER_CASE\"]+=1\n",
    "        else:\n",
    "           pass\n",
    "    print (\"Original String : \", s)\n",
    "    print (\"No. of Upper case characters : \", d[\"UPPER_CASE\"])\n",
    "    print (\"No. of Lower case Characters : \", d[\"LOWER_CASE\"])\n",
    "\n",
    "string_test('The quick Brown Fox')"
   ]
  },
  {
   "cell_type": "code",
   "execution_count": 9,
   "id": "4cd34f48",
   "metadata": {},
   "outputs": [
    {
     "name": "stdout",
     "output_type": "stream",
     "text": [
      "sum of even numbers  312\n",
      "sum of odd numbers 325\n"
     ]
    }
   ],
   "source": [
    "#5 sum of add numbers and even numbers\n",
    "sum_odd = 0\n",
    "sum_even = 0\n",
    "\n",
    "for number in range (12,38):\n",
    "    if number%2== 0:\n",
    "        sum_even+= number\n",
    "    else:\n",
    "        sum_odd+= number\n",
    "print (\"sum of even numbers \",sum_even)\n",
    "print(\"sum of odd numbers\",sum_odd)\n"
   ]
  },
  {
   "cell_type": "code",
   "execution_count": 10,
   "id": "69c4a1d1",
   "metadata": {},
   "outputs": [
    {
     "name": "stdout",
     "output_type": "stream",
     "text": [
      "Enter the number of which the user wants to print the multiplication table: 10\n",
      "The Multiplication Table of:  10\n",
      "10 x 1 = 10\n",
      "10 x 2 = 20\n",
      "10 x 3 = 30\n",
      "10 x 4 = 40\n",
      "10 x 5 = 50\n",
      "10 x 6 = 60\n",
      "10 x 7 = 70\n",
      "10 x 8 = 80\n",
      "10 x 9 = 90\n",
      "10 x 10 = 100\n"
     ]
    }
   ],
   "source": [
    "#6 print  a table for any number \n",
    "number = int(input (\"Enter the number of which the user wants to print the multiplication table: \"))          \n",
    "print (\"The Multiplication Table of: \", number)    \n",
    "for count in range(1, 11):      \n",
    "   print (number, 'x', count, '=', number * count)"
   ]
  },
  {
   "cell_type": "code",
   "execution_count": 13,
   "id": "20db0ce0",
   "metadata": {},
   "outputs": [
    {
     "name": "stdout",
     "output_type": "stream",
     "text": [
      "We will find the sum of prime numbers in python upto 10\n",
      "\n",
      "The sum of prime numbers in python from 1 to  10  is : 15\n"
     ]
    }
   ],
   "source": [
    "#7 sum of first 10 prime numbers \n",
    "last_number = 10\n",
    "print (\"We will find the sum of prime numbers in python upto\", last_number)\n",
    "sum = 0\n",
    "for number in range(2, last_number+1):\n",
    "    i = 2\n",
    "    for i in range(2, number):\n",
    "        if (int(number % i) == 0):\n",
    "            i = number\n",
    "            break;\n",
    "#Only if the number is a prime number, continue to add it.\n",
    "    if i is not number:\n",
    "        sum = sum + number\n",
    "print(\"\\nThe sum of prime numbers in python from 1 to \", last_number, \" is :\", sum)"
   ]
  },
  {
   "cell_type": "code",
   "execution_count": 14,
   "id": "cd829446",
   "metadata": {},
   "outputs": [
    {
     "name": "stdout",
     "output_type": "stream",
     "text": [
      "Enter the first number: 10\n",
      "Enter the second number: 20\n",
      "Enter the arithmetic operation (+, -, *, /): +\n",
      "Result: 30.0\n"
     ]
    }
   ],
   "source": [
    "#8 arthamatic using nested if \n",
    "num1 = float(input(\"Enter the first number: \"))\n",
    "num2 = float(input(\"Enter the second number: \"))\n",
    "operation = input(\"Enter the arithmetic operation (+, -, *, /): \")\n",
    "\n",
    "if operation == '+':\n",
    "    result = num1 + num2\n",
    "elif operation == '-':\n",
    "    result = num1 - num2\n",
    "elif operation == '*':\n",
    "    result = num1 * num2\n",
    "elif operation == '/':\n",
    "\n",
    "    if num2 != 0:\n",
    "        result = num1 / num2\n",
    "    else:\n",
    "        result = \"Division by zero is not allowed\"\n",
    "else:\n",
    "    result = \"Invalid operation\"\n",
    "\n",
    "print(f\"Result: {result}\")"
   ]
  },
  {
   "cell_type": "code",
   "execution_count": 15,
   "id": "ede2b6fa",
   "metadata": {},
   "outputs": [
    {
     "name": "stdout",
     "output_type": "stream",
     "text": [
      "37.5 degree Celsius is equal to 99.5 degree Fahrenheit\n"
     ]
    }
   ],
   "source": [
    "# 9 Python Program to convert temperature in celsius to fahrenheit\n",
    "\n",
    "celsius = 37.5\n",
    "\n",
    "# calculate fahrenheit\n",
    "fahrenheit = (celsius * 1.8) + 32\n",
    "print('%0.1f degree Celsius is equal to %0.1f degree Fahrenheit' %(celsius,fahrenheit))"
   ]
  },
  {
   "cell_type": "code",
   "execution_count": 16,
   "id": "7273a8ff",
   "metadata": {},
   "outputs": [
    {
     "name": "stdout",
     "output_type": "stream",
     "text": [
      "(75, -5)\n"
     ]
    }
   ],
   "source": [
    "\n",
    "#10.max and min number\n",
    "def max_min(data):\n",
    "  l = data[0]\n",
    "  s = data[0]\n",
    "  for num in data:\n",
    "    if num> l:\n",
    "      l = num\n",
    "    elif num< s:\n",
    "        s = num\n",
    "  return l, s\n",
    "\n",
    "print(max_min([0, 10, 15, 40, -5, 42, 17, 28, 75]))"
   ]
  },
  {
   "cell_type": "code",
   "execution_count": 17,
   "id": "8697bc0d",
   "metadata": {},
   "outputs": [
    {
     "name": "stdout",
     "output_type": "stream",
     "text": [
      "Number of seconds in a 30-day month: 2592000 seconds\n"
     ]
    }
   ],
   "source": [
    "#11.number of seconds in 30 day month 30 days 24 hrs\n",
    "days_per_month = 30\n",
    "hours_per_day = 24\n",
    "minutes_per_hour = 60\n",
    "seconds_per_minute = 60\n",
    "total_seconds = days_per_month * hours_per_day * minutes_per_hour * seconds_per_minute\n",
    "print(f\"Number of seconds in a 30-day month: {total_seconds} seconds\")"
   ]
  },
  {
   "cell_type": "code",
   "execution_count": 18,
   "id": "fa806348",
   "metadata": {},
   "outputs": [
    {
     "name": "stdout",
     "output_type": "stream",
     "text": [
      "Number of seconds in a year :  31536000\n"
     ]
    }
   ],
   "source": [
    "#12.Python program to print the Number of seconds in Year\n",
    "days=365\n",
    "hours=24\n",
    "minutes=60\n",
    "seconds=60\n",
    "print(\"Number of seconds in a year : \",days*hours*minutes*seconds)"
   ]
  },
  {
   "cell_type": "code",
   "execution_count": 19,
   "id": "f145c052",
   "metadata": {},
   "outputs": [
    {
     "name": "stdout",
     "output_type": "stream",
     "text": [
      "It will take 2.76 hours for the train to travel from London to Glasgow.\n"
     ]
    }
   ],
   "source": [
    "#13.Average speed of the train \n",
    "\n",
    "average_speed_mph = 150  \n",
    "distance_miles = 414    \n",
    "\n",
    "\n",
    "time_hours = distance_miles / average_speed_mph\n",
    "\n",
    "\n",
    "print(f\"It will take {time_hours:.2f} hours for the train to travel from London to Glasgow.\")"
   ]
  },
  {
   "cell_type": "code",
   "execution_count": 20,
   "id": "fbcc0e30",
   "metadata": {},
   "outputs": [
    {
     "name": "stdout",
     "output_type": "stream",
     "text": [
      "Total hours spent in school from year 7 to year 11: 51840 hours\n"
     ]
    }
   ],
   "source": [
    "#14.days in each school year\n",
    "days_in_each_school_year = 192\n",
    "school_years = range(7, 12)\n",
    "total_hours_in_school = 0\n",
    "for year in school_years:\n",
    "    total_hours_in_school += year * days_in_each_school_year * 6\n",
    "print(f\"Total hours spent in school from year 7 to year 11: {total_hours_in_school} hours\")"
   ]
  },
  {
   "cell_type": "code",
   "execution_count": 21,
   "id": "72e31403",
   "metadata": {},
   "outputs": [
    {
     "name": "stdout",
     "output_type": "stream",
     "text": [
      "Enter Ram's age: 12\n",
      "Enter Sam's age: 13\n",
      "Enter Khan's age: 24\n",
      "The eldest among Ram, Sam, and Khan is Khan.\n",
      "The youngest among Ram, Sam, and Khan is Ram.\n"
     ]
    }
   ],
   "source": [
    "#15 youngest age of ram sam khan\n",
    "\n",
    "ram_age = int(input(\"Enter Ram's age: \"))\n",
    "sam_age = int(input(\"Enter Sam's age: \"))\n",
    "khan_age = int(input(\"Enter Khan's age: \"))\n",
    "\n",
    "\n",
    "if ram_age >= sam_age and ram_age >= khan_age:\n",
    "    eldest = \"Ram\"\n",
    "    if sam_age <= khan_age:\n",
    "        youngest = \"Sam\"\n",
    "    else:\n",
    "        youngest = \"Khan\"\n",
    "elif sam_age >= ram_age and sam_age >= khan_age:\n",
    "    eldest = \"Sam\"\n",
    "    if ram_age <= khan_age:\n",
    "        youngest = \"Ram\"\n",
    "    else:\n",
    "        youngest = \"Khan\"\n",
    "else:\n",
    "    eldest = \"Khan\"\n",
    "    if ram_age <= sam_age:\n",
    "        youngest = \"Ram\"\n",
    "    else:\n",
    "        youngest = \"Sam\"\n",
    "\n",
    "\n",
    "print(f\"The eldest among Ram, Sam, and Khan is {eldest}.\")\n",
    "print(f\"The youngest among Ram, Sam, and Khan is {youngest}.\")"
   ]
  },
  {
   "cell_type": "code",
   "execution_count": 32,
   "id": "e37f52ba",
   "metadata": {},
   "outputs": [
    {
     "name": "stdout",
     "output_type": "stream",
     "text": [
      "[4, 5, 6, 1, 2, 3]\n"
     ]
    }
   ],
   "source": [
    "#16 rotate a list by right n times\n",
    "n = 3\n",
    "\n",
    "list_1 = [1, 2, 3, 4, 5, 6]\n",
    "list_1 = (list_1[len(list_1) - n:len(list_1)] + list_1[0:len(list_1) - n])\n",
    "print(list_1)\n"
   ]
  },
  {
   "cell_type": "code",
   "execution_count": 26,
   "id": "1164cf62",
   "metadata": {},
   "outputs": [
    {
     "name": "stdout",
     "output_type": "stream",
     "text": [
      "        1 \n",
      "       1 1 \n",
      "      1 2 1 \n",
      "     1 3 3 1 \n",
      "    1 4 6 4 1 \n",
      "   1 5 10 10 5 1 \n",
      "  1 6 15 20 15 6 1 \n"
     ]
    }
   ],
   "source": [
    "#17.1 pattern factorial \n",
    "from math import factorial\n",
    "n = 7\n",
    "for i in range(n):\n",
    "    for j in range(n-i+1): \n",
    "        print(end=\" \")\n",
    "    for j in range(i+1):\n",
    "        print(factorial(i)//(factorial(j)*factorial(i-j)), end=\" \")\n",
    " \n",
    "    \n",
    "    print()"
   ]
  },
  {
   "cell_type": "code",
   "execution_count": 28,
   "id": "64049b50",
   "metadata": {},
   "outputs": [
    {
     "name": "stdout",
     "output_type": "stream",
     "text": [
      "\n",
      "P \n",
      "P Y \n",
      "P Y T \n",
      "P Y T H \n",
      "P Y T H O \n",
      "P Y T H O N "
     ]
    }
   ],
   "source": [
    "#17.2 pattern python \n",
    "str=\"PYTHON\"\n",
    "for i in range(0,6):\n",
    "    print()\n",
    "    for j in range(0,i+1):\n",
    "        print(str[j], end=' ')"
   ]
  },
  {
   "cell_type": "code",
   "execution_count": 29,
   "id": "d66e5751",
   "metadata": {},
   "outputs": [
    {
     "name": "stdout",
     "output_type": "stream",
     "text": [
      "\n",
      "* \n",
      "* * \n",
      "* * * \n",
      "* * * * \n",
      "* * * * * "
     ]
    }
   ],
   "source": [
    "#17.3 pattern 5 star\n",
    "for i in range(1,6):\n",
    "        print()\n",
    "        for j in range(i):\n",
    "             print(\"*\", end= ' ')"
   ]
  },
  {
   "cell_type": "code",
   "execution_count": 1,
   "id": "f1a7ee3b",
   "metadata": {},
   "outputs": [
    {
     "name": "stdout",
     "output_type": "stream",
     "text": [
      "    * \r\n",
      "   * * \r\n",
      "  * * * \r\n",
      " * * * * \r\n",
      "* * * * * \r\n"
     ]
    }
   ],
   "source": [
    "# 17.4 6 star pattern \n",
    "def triangle(n):\n",
    "     \n",
    "    \n",
    "    k = n - 1\n",
    " \n",
    "    \n",
    "    for i in range(0, n):\n",
    "        for j in range(0, k):\n",
    "            print(end=\" \")\n",
    "        k = k - 1\n",
    "        for j in range(0, i+1):\n",
    "            print(\"* \", end=\"\")\n",
    "        print(\"\\r\")\n",
    "n = 5\n",
    "triangle(n)"
   ]
  },
  {
   "cell_type": "code",
   "execution_count": null,
   "id": "534e9e2e",
   "metadata": {},
   "outputs": [],
   "source": []
  }
 ],
 "metadata": {
  "kernelspec": {
   "display_name": "Python 3 (ipykernel)",
   "language": "python",
   "name": "python3"
  },
  "language_info": {
   "codemirror_mode": {
    "name": "ipython",
    "version": 3
   },
   "file_extension": ".py",
   "mimetype": "text/x-python",
   "name": "python",
   "nbconvert_exporter": "python",
   "pygments_lexer": "ipython3",
   "version": "3.11.4"
  }
 },
 "nbformat": 4,
 "nbformat_minor": 5
}
